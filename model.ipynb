{
 "cells": [
  {
   "cell_type": "markdown",
   "id": "8f9507c6-2300-478d-b57f-5a2137fc379f",
   "metadata": {},
   "source": [
    "## Importing the needed libraries"
   ]
  },
  {
   "cell_type": "code",
   "execution_count": 9,
   "id": "b7b3e580-1a83-4342-82c9-78404f80dd75",
   "metadata": {},
   "outputs": [],
   "source": [
    "import pandas as pd\n",
    "from sklearn.model_selection import train_test_split\n",
    "from sklearn.linear_model import LogisticRegression\n",
    "from sklearn.feature_extraction.text import TfidfVectorizer\n",
    "from sklearn.metrics import accuracy_score\n",
    "import pickle\n",
    "import re"
   ]
  },
  {
   "cell_type": "markdown",
   "id": "f599f1aa-489a-4741-b1a4-d81fa9a2b16f",
   "metadata": {},
   "source": [
    "## Loading the dataset"
   ]
  },
  {
   "cell_type": "code",
   "execution_count": 3,
   "id": "5790ccb8-bb4f-4493-bd51-500b9f85c8e4",
   "metadata": {},
   "outputs": [],
   "source": [
    "real = pd.read_csv(\"Dataset/train/True.csv\")\n",
    "fake = pd.read_csv(\"Dataset/train/Fake.csv\")\n",
    "\n",
    "real[\"label\"] = 0\n",
    "fake[\"label\"] = 1\n",
    "\n",
    "df = pd.concat([real, fake], ignore_index=True)\n",
    "df = df.sample(frac=1).reset_index(drop=True)"
   ]
  },
  {
   "cell_type": "markdown",
   "id": "dd18cf27-b80f-4580-a17c-1caec777ab1c",
   "metadata": {},
   "source": [
    "## viewing the dataset"
   ]
  },
  {
   "cell_type": "code",
   "execution_count": 3,
   "id": "54f403ca-095f-4b52-9410-2583be53dd72",
   "metadata": {},
   "outputs": [
    {
     "data": {
      "text/plain": [
       "label\n",
       "1    23481\n",
       "0    21417\n",
       "Name: count, dtype: int64"
      ]
     },
     "execution_count": 3,
     "metadata": {},
     "output_type": "execute_result"
    }
   ],
   "source": [
    "df['label'].value_counts()"
   ]
  },
  {
   "cell_type": "code",
   "execution_count": 17,
   "id": "fcc8887c-1a82-4562-861c-a527dcd57fbd",
   "metadata": {},
   "outputs": [
    {
     "data": {
      "text/html": [
       "<div>\n",
       "<style scoped>\n",
       "    .dataframe tbody tr th:only-of-type {\n",
       "        vertical-align: middle;\n",
       "    }\n",
       "\n",
       "    .dataframe tbody tr th {\n",
       "        vertical-align: top;\n",
       "    }\n",
       "\n",
       "    .dataframe thead th {\n",
       "        text-align: right;\n",
       "    }\n",
       "</style>\n",
       "<table border=\"1\" class=\"dataframe\">\n",
       "  <thead>\n",
       "    <tr style=\"text-align: right;\">\n",
       "      <th></th>\n",
       "      <th>title</th>\n",
       "      <th>text</th>\n",
       "      <th>subject</th>\n",
       "      <th>date</th>\n",
       "      <th>label</th>\n",
       "    </tr>\n",
       "  </thead>\n",
       "  <tbody>\n",
       "    <tr>\n",
       "      <th>0</th>\n",
       "      <td>Top First Amendment Lawyer Makes MIND-BLOWING...</td>\n",
       "      <td>top first amendment lawyer makes mind blowing...</td>\n",
       "      <td>News</td>\n",
       "      <td>November 11, 2016</td>\n",
       "      <td>1</td>\n",
       "    </tr>\n",
       "    <tr>\n",
       "      <th>1</th>\n",
       "      <td>MCCONNELL PUSHES BACK ON MEDIA: I Understand ‘...</td>\n",
       "      <td>mcconnell pushes back on media  i understand  ...</td>\n",
       "      <td>politics</td>\n",
       "      <td>Dec 20, 2017</td>\n",
       "      <td>1</td>\n",
       "    </tr>\n",
       "    <tr>\n",
       "      <th>2</th>\n",
       "      <td>SEAN HANNITY TAKES OFF THE GLOVES After “Hilla...</td>\n",
       "      <td>sean hannity takes off the gloves after  hilla...</td>\n",
       "      <td>politics</td>\n",
       "      <td>Oct 6, 2016</td>\n",
       "      <td>1</td>\n",
       "    </tr>\n",
       "    <tr>\n",
       "      <th>3</th>\n",
       "      <td>Fed Up With Congress, Trump Just Put A Big Na...</td>\n",
       "      <td>fed up with congress  trump just put a big na...</td>\n",
       "      <td>News</td>\n",
       "      <td>August 31, 2017</td>\n",
       "      <td>1</td>\n",
       "    </tr>\n",
       "    <tr>\n",
       "      <th>4</th>\n",
       "      <td>Schumer: Comey should still testify to congres...</td>\n",
       "      <td>schumer  comey should still testify to congres...</td>\n",
       "      <td>politicsNews</td>\n",
       "      <td>May 18, 2017</td>\n",
       "      <td>0</td>\n",
       "    </tr>\n",
       "  </tbody>\n",
       "</table>\n",
       "</div>"
      ],
      "text/plain": [
       "                                               title  \\\n",
       "0   Top First Amendment Lawyer Makes MIND-BLOWING...   \n",
       "1  MCCONNELL PUSHES BACK ON MEDIA: I Understand ‘...   \n",
       "2  SEAN HANNITY TAKES OFF THE GLOVES After “Hilla...   \n",
       "3   Fed Up With Congress, Trump Just Put A Big Na...   \n",
       "4  Schumer: Comey should still testify to congres...   \n",
       "\n",
       "                                                text       subject  \\\n",
       "0   top first amendment lawyer makes mind blowing...          News   \n",
       "1  mcconnell pushes back on media  i understand  ...      politics   \n",
       "2  sean hannity takes off the gloves after  hilla...      politics   \n",
       "3   fed up with congress  trump just put a big na...          News   \n",
       "4  schumer  comey should still testify to congres...  politicsNews   \n",
       "\n",
       "                date  label  \n",
       "0  November 11, 2016      1  \n",
       "1       Dec 20, 2017      1  \n",
       "2        Oct 6, 2016      1  \n",
       "3    August 31, 2017      1  \n",
       "4      May 18, 2017       0  "
      ]
     },
     "execution_count": 17,
     "metadata": {},
     "output_type": "execute_result"
    }
   ],
   "source": [
    "df.head()"
   ]
  },
  {
   "cell_type": "markdown",
   "id": "0988d7dd-5f24-4410-82a5-a1ece11b9bd5",
   "metadata": {},
   "source": [
    "## preprocessing"
   ]
  },
  {
   "cell_type": "code",
   "execution_count": 5,
   "id": "c4e60ea3-8e6a-4db4-924d-ebc99e5729e1",
   "metadata": {},
   "outputs": [],
   "source": [
    "def clean_text(text):\n",
    "    text = re.sub(r'\\W', ' ', str(text))\n",
    "    text = text.lower()\n",
    "    return text\n",
    "\n",
    "df['text'] = df['title'] + \" \" + df['text']\n",
    "df['text'] = df['text'].apply(clean_text)\n",
    "\n",
    "X = df['text']\n",
    "y = df['label']"
   ]
  },
  {
   "cell_type": "markdown",
   "id": "3d27898c-f07d-41d4-8df6-cf28377784e1",
   "metadata": {},
   "source": [
    "## vectorizing"
   ]
  },
  {
   "cell_type": "code",
   "execution_count": 7,
   "id": "864b9d86-f961-4d60-ab89-63dc35f816d2",
   "metadata": {},
   "outputs": [],
   "source": [
    "vectorizer = TfidfVectorizer(max_features=5000)\n",
    "X_vectorized = vectorizer.fit_transform(X)"
   ]
  },
  {
   "cell_type": "markdown",
   "id": "0e725498-9396-4b3a-92bf-81397d296567",
   "metadata": {},
   "source": [
    "## train/test Split"
   ]
  },
  {
   "cell_type": "code",
   "execution_count": 20,
   "id": "2d33f4f2-d175-47cd-ade1-f7c85bdd4a80",
   "metadata": {},
   "outputs": [],
   "source": [
    "X_train, X_test, y_train, y_test = train_test_split(X_vectorized, y, test_size=0.2, random_state=42)\n"
   ]
  },
  {
   "cell_type": "markdown",
   "id": "34d3408a-21e3-44f9-9779-195183b90238",
   "metadata": {},
   "source": [
    "## training the model"
   ]
  },
  {
   "cell_type": "code",
   "execution_count": null,
   "id": "2e33c381-cbc4-4548-9643-b4c990baddde",
   "metadata": {},
   "outputs": [],
   "source": [
    "model = LogisticRegression()\n",
    "model.fit(X_train, y_train)"
   ]
  },
  {
   "cell_type": "markdown",
   "id": "f6b56807-76a1-4aa0-b483-6fe4b19592d0",
   "metadata": {},
   "source": [
    "## Evaluating To See the Accuracy Level"
   ]
  },
  {
   "cell_type": "code",
   "execution_count": 8,
   "id": "9d673abf-d4f6-42be-94a7-0b286b2615cd",
   "metadata": {},
   "outputs": [
    {
     "ename": "NameError",
     "evalue": "name 'model' is not defined",
     "output_type": "error",
     "traceback": [
      "\u001b[31m---------------------------------------------------------------------------\u001b[39m",
      "\u001b[31mNameError\u001b[39m                                 Traceback (most recent call last)",
      "\u001b[36mCell\u001b[39m\u001b[36m \u001b[39m\u001b[32mIn[8]\u001b[39m\u001b[32m, line 1\u001b[39m\n\u001b[32m----> \u001b[39m\u001b[32m1\u001b[39m y_pred = \u001b[43mmodel\u001b[49m.predict(X_test)\n\u001b[32m      2\u001b[39m \u001b[38;5;28mprint\u001b[39m(\u001b[33m\"\u001b[39m\u001b[33mAccuracy:\u001b[39m\u001b[33m\"\u001b[39m, accuracy_score(y_test, y_pred))\n",
      "\u001b[31mNameError\u001b[39m: name 'model' is not defined"
     ]
    }
   ],
   "source": [
    "y_pred = model.predict(X_test)\n",
    "print(\"Accuracy:\", accuracy_score(y_test, y_pred))"
   ]
  },
  {
   "cell_type": "code",
   "execution_count": null,
   "id": "0f2013de-1017-495e-9d6f-75307c4d602f",
   "metadata": {},
   "outputs": [],
   "source": [
    "## Save the model"
   ]
  },
  {
   "cell_type": "code",
   "execution_count": 10,
   "id": "b7a2281f-ce39-47f1-bb56-1d6a970a1f75",
   "metadata": {},
   "outputs": [],
   "source": [
    "pickle.dump(model, open(\"model.pkl\", \"wb\"))\n",
    "pickle.dump(vectorizer, open(\"vectorizer.pkl\", \"wb\"))"
   ]
  },
  {
   "cell_type": "code",
   "execution_count": null,
   "id": "46ba10b2-12f2-4b49-bfc0-6c656f00d116",
   "metadata": {},
   "outputs": [],
   "source": []
  }
 ],
 "metadata": {
  "kernelspec": {
   "display_name": "Python 3 (ipykernel)",
   "language": "python",
   "name": "python3"
  },
  "language_info": {
   "codemirror_mode": {
    "name": "ipython",
    "version": 3
   },
   "file_extension": ".py",
   "mimetype": "text/x-python",
   "name": "python",
   "nbconvert_exporter": "python",
   "pygments_lexer": "ipython3",
   "version": "3.12.4"
  }
 },
 "nbformat": 4,
 "nbformat_minor": 5
}
